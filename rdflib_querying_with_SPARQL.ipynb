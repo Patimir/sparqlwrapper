{
  "nbformat": 4,
  "nbformat_minor": 0,
  "metadata": {
    "colab": {
      "name": "rdflib querying with SPARQL.ipynb",
      "provenance": [],
      "collapsed_sections": []
    },
    "kernelspec": {
      "name": "python3",
      "display_name": "Python 3"
    }
  },
  "cells": [
    {
      "cell_type": "markdown",
      "metadata": {
        "id": "UDeikpHwyZzP"
      },
      "source": [
        "# **Querying with SPARQL**\n"
      ]
    },
    {
      "cell_type": "code",
      "metadata": {
        "id": "MKoXtaS5Lxe3",
        "colab": {
          "base_uri": "https://localhost:8080/",
          "height": 87
        },
        "outputId": "4b720d43-7f47-470a-8ad1-19028478543c"
      },
      "source": [
        "!pip install rdflib"
      ],
      "execution_count": null,
      "outputs": [
        {
          "output_type": "stream",
          "text": [
            "Requirement already satisfied: rdflib in /usr/local/lib/python3.6/dist-packages (5.0.0)\n",
            "Requirement already satisfied: isodate in /usr/local/lib/python3.6/dist-packages (from rdflib) (0.6.0)\n",
            "Requirement already satisfied: six in /usr/local/lib/python3.6/dist-packages (from rdflib) (1.12.0)\n",
            "Requirement already satisfied: pyparsing in /usr/local/lib/python3.6/dist-packages (from rdflib) (2.4.7)\n"
          ],
          "name": "stdout"
        }
      ]
    },
    {
      "cell_type": "code",
      "metadata": {
        "id": "7_TIOVn1D835"
      },
      "source": [
        "from rdflib import Graph, URIRef\n",
        "from rdflib.namespace import RDFS, SKOS"
      ],
      "execution_count": null,
      "outputs": []
    },
    {
      "cell_type": "code",
      "metadata": {
        "id": "-64CGUozE3c1",
        "colab": {
          "base_uri": "https://localhost:8080/",
          "height": 34
        },
        "outputId": "dc6b95cc-39c1-430b-b7b2-3996c3f02640"
      },
      "source": [
        "g = Graph()\n",
        "g.parse('https://www.wikidata.org/wiki/Special:EntityData/Q2831.ttl')"
      ],
      "execution_count": null,
      "outputs": [
        {
          "output_type": "execute_result",
          "data": {
            "text/plain": [
              "<Graph identifier=Nfea12afe5d7d4ce9a935a5160d277d09 (<class 'rdflib.graph.Graph'>)>"
            ]
          },
          "metadata": {
            "tags": []
          },
          "execution_count": 3
        }
      ]
    },
    {
      "cell_type": "code",
      "metadata": {
        "id": "lJIJflZcFlph",
        "colab": {
          "base_uri": "https://localhost:8080/",
          "height": 34
        },
        "outputId": "fd68287a-0e11-4725-f09c-483d5a633736"
      },
      "source": [
        "len(g)"
      ],
      "execution_count": null,
      "outputs": [
        {
          "output_type": "execute_result",
          "data": {
            "text/plain": [
              "102252"
            ]
          },
          "metadata": {
            "tags": []
          },
          "execution_count": 4
        }
      ]
    },
    {
      "cell_type": "code",
      "metadata": {
        "id": "iALdgz9lFohk"
      },
      "source": [
        "MJ = URIRef('http://www.wikidata.org/entity/Q2831')\n",
        "for label in g.objects(MJ, SKOS.altLabel):\n",
        "    print(label.value, label.language)"
      ],
      "execution_count": null,
      "outputs": []
    },
    {
      "cell_type": "code",
      "metadata": {
        "id": "oMg-ItwlG3xU"
      },
      "source": [
        "labels = g.preferredLabel(MJ, labelProperties=(SKOS.altLabel,))\n",
        "for prop, label in labels:\n",
        "    print(label.value, label.language)"
      ],
      "execution_count": null,
      "outputs": []
    },
    {
      "cell_type": "code",
      "metadata": {
        "id": "0AZLC2H5HJlO"
      },
      "source": [
        "qres = g.query('''\n",
        "    SELECT ?label\n",
        "    WHERE {\n",
        "        wd:Q2831 skos:altLabel ?label .\n",
        "    }\n",
        "''')\n",
        "for label, *_ in qres:\n",
        "    print(label.value, label.language)"
      ],
      "execution_count": null,
      "outputs": []
    },
    {
      "cell_type": "code",
      "metadata": {
        "id": "yZlC48RVLH39"
      },
      "source": [
        "qres = g.query('''\n",
        "    SELECT DISTINCT ?label\n",
        "    WHERE {\n",
        "        wd:Q2831 rdfs:label | skos:prefLabel | skos:altLabel ?label .\n",
        "        FILTER (lang(?label) = 'en')\n",
        "    }\n",
        "    ORDER BY ?label\n",
        "''')\n",
        "for label, *_ in qres:\n",
        "    print(label)"
      ],
      "execution_count": null,
      "outputs": []
    },
    {
      "cell_type": "code",
      "metadata": {
        "id": "yy6W8cnARoxs"
      },
      "source": [
        "qres = g.query('''\n",
        "    SELECT ?label ?description\n",
        "    WHERE {\n",
        "        wd:Q2831 wdt:P166 ?award .\n",
        "        ?award rdfs:label ?label .\n",
        "        FILTER (lang(?label) = 'en')\n",
        "        OPTIONAL {\n",
        "            ?award schema:description ?description\n",
        "            FILTER (lang(?description) = 'en')\n",
        "        }\n",
        "    }\n",
        "''')\n",
        "\n",
        "for label, description in qres:\n",
        "    print(f'Award: {label:<55} Description: {description}')"
      ],
      "execution_count": null,
      "outputs": []
    },
    {
      "cell_type": "code",
      "metadata": {
        "id": "g1M-uRxp_y4z",
        "colab": {
          "base_uri": "https://localhost:8080/",
          "height": 34
        },
        "outputId": "bd12c66d-1db6-48c3-9e84-793c4ff384c8"
      },
      "source": [
        "%timeit -n 1000 list(g.objects(MJ, RDFS.label))"
      ],
      "execution_count": null,
      "outputs": [
        {
          "output_type": "stream",
          "text": [
            "1000 loops, best of 3: 744 µs per loop\n"
          ],
          "name": "stdout"
        }
      ]
    },
    {
      "cell_type": "code",
      "metadata": {
        "id": "o7Cj-6ys_5zP",
        "colab": {
          "base_uri": "https://localhost:8080/",
          "height": 34
        },
        "outputId": "6e423f67-b82d-456d-b2aa-05775071463b"
      },
      "source": [
        "%timeit -n 1000 g.preferredLabel(MJ, labelProperties=(RDFS.label,))"
      ],
      "execution_count": null,
      "outputs": [
        {
          "output_type": "stream",
          "text": [
            "1000 loops, best of 3: 803 µs per loop\n"
          ],
          "name": "stdout"
        }
      ]
    },
    {
      "cell_type": "code",
      "metadata": {
        "id": "O6RHCJAdAFrm",
        "colab": {
          "base_uri": "https://localhost:8080/",
          "height": 34
        },
        "outputId": "62068334-8682-421f-fcbb-a6950092f36d"
      },
      "source": [
        "%timeit -n 1000 g.query('SELECT ?label WHERE {wd:Q2831 rdfs:label ?label}')"
      ],
      "execution_count": null,
      "outputs": [
        {
          "output_type": "stream",
          "text": [
            "1000 loops, best of 3: 3.52 ms per loop\n"
          ],
          "name": "stdout"
        }
      ]
    }
  ]
}